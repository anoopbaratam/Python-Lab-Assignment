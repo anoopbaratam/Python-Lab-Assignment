{
 "cells": [
  {
   "cell_type": "code",
   "execution_count": 1,
   "id": "5a73a19b",
   "metadata": {},
   "outputs": [],
   "source": [
    "import numpy as np\n",
    "import pandas as pd"
   ]
  },
  {
   "cell_type": "markdown",
   "id": "d56a8e89",
   "metadata": {},
   "source": [
    "# Reading .csv file"
   ]
  },
  {
   "cell_type": "code",
   "execution_count": 315,
   "id": "cf05c7d8",
   "metadata": {
    "scrolled": true
   },
   "outputs": [
    {
     "data": {
      "text/html": [
       "<div>\n",
       "<style scoped>\n",
       "    .dataframe tbody tr th:only-of-type {\n",
       "        vertical-align: middle;\n",
       "    }\n",
       "\n",
       "    .dataframe tbody tr th {\n",
       "        vertical-align: top;\n",
       "    }\n",
       "\n",
       "    .dataframe thead th {\n",
       "        text-align: right;\n",
       "    }\n",
       "</style>\n",
       "<table border=\"1\" class=\"dataframe\">\n",
       "  <thead>\n",
       "    <tr style=\"text-align: right;\">\n",
       "      <th></th>\n",
       "      <th>id</th>\n",
       "      <th>inning</th>\n",
       "      <th>over</th>\n",
       "      <th>ball</th>\n",
       "      <th>batsman</th>\n",
       "      <th>non_striker</th>\n",
       "      <th>bowler</th>\n",
       "      <th>batsman_runs</th>\n",
       "      <th>extra_runs</th>\n",
       "      <th>total_runs</th>\n",
       "      <th>non_boundary</th>\n",
       "      <th>is_wicket</th>\n",
       "      <th>dismissal_kind</th>\n",
       "      <th>player_dismissed</th>\n",
       "      <th>fielder</th>\n",
       "      <th>extras_type</th>\n",
       "      <th>batting_team</th>\n",
       "      <th>bowling_team</th>\n",
       "    </tr>\n",
       "  </thead>\n",
       "  <tbody>\n",
       "    <tr>\n",
       "      <th>0</th>\n",
       "      <td>1254058</td>\n",
       "      <td>1</td>\n",
       "      <td>0</td>\n",
       "      <td>1</td>\n",
       "      <td>RG Sharma</td>\n",
       "      <td>CA Lynn</td>\n",
       "      <td>Mohammed Siraj</td>\n",
       "      <td>2</td>\n",
       "      <td>0</td>\n",
       "      <td>2</td>\n",
       "      <td>0</td>\n",
       "      <td>0</td>\n",
       "      <td>NaN</td>\n",
       "      <td>NaN</td>\n",
       "      <td>NaN</td>\n",
       "      <td>NaN</td>\n",
       "      <td>Mumbai Indians</td>\n",
       "      <td>Royal Challengers Bangalore</td>\n",
       "    </tr>\n",
       "    <tr>\n",
       "      <th>1</th>\n",
       "      <td>1254058</td>\n",
       "      <td>1</td>\n",
       "      <td>0</td>\n",
       "      <td>2</td>\n",
       "      <td>RG Sharma</td>\n",
       "      <td>CA Lynn</td>\n",
       "      <td>Mohammed Siraj</td>\n",
       "      <td>0</td>\n",
       "      <td>0</td>\n",
       "      <td>0</td>\n",
       "      <td>0</td>\n",
       "      <td>0</td>\n",
       "      <td>NaN</td>\n",
       "      <td>NaN</td>\n",
       "      <td>NaN</td>\n",
       "      <td>NaN</td>\n",
       "      <td>Mumbai Indians</td>\n",
       "      <td>Royal Challengers Bangalore</td>\n",
       "    </tr>\n",
       "    <tr>\n",
       "      <th>2</th>\n",
       "      <td>1254058</td>\n",
       "      <td>1</td>\n",
       "      <td>0</td>\n",
       "      <td>3</td>\n",
       "      <td>RG Sharma</td>\n",
       "      <td>CA Lynn</td>\n",
       "      <td>Mohammed Siraj</td>\n",
       "      <td>0</td>\n",
       "      <td>0</td>\n",
       "      <td>0</td>\n",
       "      <td>0</td>\n",
       "      <td>0</td>\n",
       "      <td>NaN</td>\n",
       "      <td>NaN</td>\n",
       "      <td>NaN</td>\n",
       "      <td>NaN</td>\n",
       "      <td>Mumbai Indians</td>\n",
       "      <td>Royal Challengers Bangalore</td>\n",
       "    </tr>\n",
       "    <tr>\n",
       "      <th>3</th>\n",
       "      <td>1254058</td>\n",
       "      <td>1</td>\n",
       "      <td>0</td>\n",
       "      <td>4</td>\n",
       "      <td>RG Sharma</td>\n",
       "      <td>CA Lynn</td>\n",
       "      <td>Mohammed Siraj</td>\n",
       "      <td>2</td>\n",
       "      <td>0</td>\n",
       "      <td>2</td>\n",
       "      <td>0</td>\n",
       "      <td>0</td>\n",
       "      <td>NaN</td>\n",
       "      <td>NaN</td>\n",
       "      <td>NaN</td>\n",
       "      <td>NaN</td>\n",
       "      <td>Mumbai Indians</td>\n",
       "      <td>Royal Challengers Bangalore</td>\n",
       "    </tr>\n",
       "    <tr>\n",
       "      <th>4</th>\n",
       "      <td>1254058</td>\n",
       "      <td>1</td>\n",
       "      <td>0</td>\n",
       "      <td>5</td>\n",
       "      <td>RG Sharma</td>\n",
       "      <td>CA Lynn</td>\n",
       "      <td>Mohammed Siraj</td>\n",
       "      <td>0</td>\n",
       "      <td>0</td>\n",
       "      <td>0</td>\n",
       "      <td>0</td>\n",
       "      <td>0</td>\n",
       "      <td>NaN</td>\n",
       "      <td>NaN</td>\n",
       "      <td>NaN</td>\n",
       "      <td>NaN</td>\n",
       "      <td>Mumbai Indians</td>\n",
       "      <td>Royal Challengers Bangalore</td>\n",
       "    </tr>\n",
       "  </tbody>\n",
       "</table>\n",
       "</div>"
      ],
      "text/plain": [
       "        id  inning  over  ball    batsman non_striker          bowler  \\\n",
       "0  1254058       1     0     1  RG Sharma     CA Lynn  Mohammed Siraj   \n",
       "1  1254058       1     0     2  RG Sharma     CA Lynn  Mohammed Siraj   \n",
       "2  1254058       1     0     3  RG Sharma     CA Lynn  Mohammed Siraj   \n",
       "3  1254058       1     0     4  RG Sharma     CA Lynn  Mohammed Siraj   \n",
       "4  1254058       1     0     5  RG Sharma     CA Lynn  Mohammed Siraj   \n",
       "\n",
       "   batsman_runs  extra_runs  total_runs  non_boundary  is_wicket  \\\n",
       "0             2           0           2             0          0   \n",
       "1             0           0           0             0          0   \n",
       "2             0           0           0             0          0   \n",
       "3             2           0           2             0          0   \n",
       "4             0           0           0             0          0   \n",
       "\n",
       "  dismissal_kind player_dismissed fielder extras_type    batting_team  \\\n",
       "0            NaN              NaN     NaN         NaN  Mumbai Indians   \n",
       "1            NaN              NaN     NaN         NaN  Mumbai Indians   \n",
       "2            NaN              NaN     NaN         NaN  Mumbai Indians   \n",
       "3            NaN              NaN     NaN         NaN  Mumbai Indians   \n",
       "4            NaN              NaN     NaN         NaN  Mumbai Indians   \n",
       "\n",
       "                  bowling_team  \n",
       "0  Royal Challengers Bangalore  \n",
       "1  Royal Challengers Bangalore  \n",
       "2  Royal Challengers Bangalore  \n",
       "3  Royal Challengers Bangalore  \n",
       "4  Royal Challengers Bangalore  "
      ]
     },
     "execution_count": 315,
     "metadata": {},
     "output_type": "execute_result"
    }
   ],
   "source": [
    "data = pd.read_csv('E:/BITS Pilani/First Semester/G507 - Programming for Analytics - Tirumalsety Ravendranath/Code/Programming-for-Analytics--MPBA-G507-main/Assignments/Python Assignments/01 Data Cleaning/ipl2021dirtydataset.csv',index_col=None, header=0)\n",
    "data.head(5)"
   ]
  },
  {
   "cell_type": "markdown",
   "id": "60795824",
   "metadata": {},
   "source": [
    "## Drop id column"
   ]
  },
  {
   "cell_type": "code",
   "execution_count": 316,
   "id": "f199936d",
   "metadata": {},
   "outputs": [],
   "source": [
    "data.drop([\"id\"],axis = 1,inplace = True)"
   ]
  },
  {
   "cell_type": "markdown",
   "id": "af949846",
   "metadata": {},
   "source": [
    "## Getting Unique values in each required index"
   ]
  },
  {
   "cell_type": "code",
   "execution_count": 317,
   "id": "a5d13061",
   "metadata": {
    "scrolled": false
   },
   "outputs": [
    {
     "name": "stdout",
     "output_type": "stream",
     "text": [
      "inning :  {1, 2}\n",
      "over :  {0, 1, 2, 3, 4, 5, 6, 7, 8, 9, 10, 11, 12, 13, 14, 15, 16, 17, 18, 19}\n",
      "ball :  {1, 2, 3, 4, 5, 6, 7, 8}\n",
      "batsman_runs :  {0, 1, 2, 3, 4, 6, 16, 22}\n",
      "extra_runs :  {0, 1, 4, 5}\n",
      "total_runs :  {0, 1, 2, 3, 4, 100, 6, 5, 7, 67}\n",
      "non_boundary :  {0}\n",
      "is_wicket :  {0, 1, 2, 4, 5, 7, 8, 9}\n",
      "dismissal_kind :  {nan, 'caught and bowled', 'Not Applicable', 'caught', 'lbw', 'bowled', 'run out'}\n",
      "extras_type :  {nan, 'wides', 'legbyes', 'noballs'}\n",
      "batting_team :  {'Royal Challengers Bangalore', 'DC', 'RCB', 'CSK', 'Kolkata Knight Riders', 'csk', 'Mumbai Indians', 'Delhi Capitals', 'Chennai Super Kings', 'MI'}\n",
      "bowling_team :  {'Sunrisers Hyderabad', 'SH', 'DC', 'RCB', 'MI', 'CSK', 'Delhi Capitals', 'Mumbai Indians', 'csk', 'Chennai Super Kings', 'mi', 'Royal Challengers Bangalore'}\n"
     ]
    }
   ],
   "source": [
    "# for i in list(data.columns):\n",
    "#     print(i,\": \",set(data[i]))\n",
    "\n",
    "req_index = [0,1,2,6,7,8,9,10,11,14,15,16]\n",
    "req_set_list = [data.columns[i] for i in req_index]\n",
    "# print(req_set_list)\n",
    "\n",
    "for i in req_set_list:\n",
    "    print(i,\": \",set(data[i]))"
   ]
  },
  {
   "cell_type": "markdown",
   "id": "e696998b",
   "metadata": {},
   "source": [
    "# Data Cleaning"
   ]
  },
  {
   "cell_type": "markdown",
   "id": "e4b92303",
   "metadata": {},
   "source": [
    "## Shoretening team names\n",
    "\n",
    "### .replace() method\n",
    "\n",
    "#### ref: https://pythonguides.com/pandas-replace-multiple-values/"
   ]
  },
  {
   "cell_type": "code",
   "execution_count": 318,
   "id": "5449904e",
   "metadata": {},
   "outputs": [
    {
     "name": "stdout",
     "output_type": "stream",
     "text": [
      "{'DC', 'KKR', 'RCB', 'CSK', 'MI'}\n",
      "{'DC', 'RCB', 'CSK', 'SRH', 'MI'}\n"
     ]
    }
   ],
   "source": [
    "data.replace({\"batting_team\":{\n",
    "    'Royal Challengers Bangalore':'RCB',\n",
    "    'Kolkata Knight Riders':'KKR',\n",
    "    'csk':'CSK',\n",
    "    'Mumbai Indians':'MI',\n",
    "    'Delhi Capitals':'DC',\n",
    "    'Chennai Super Kings':'CSK',\n",
    "},\n",
    "             \"bowling_team\":{\n",
    "                 'Sunrisers Hyderabad':'SRH',\n",
    "                 'SH':'SRH',\n",
    "                 'Delhi Capitals':'DC',\n",
    "                 'Mumbai Indians':'MI',\n",
    "                 'csk':'CSK',\n",
    "                 'Chennai Super Kings':'CSK',\n",
    "                 'mi':'MI',\n",
    "                 'Royal Challengers Bangalore':'RCB'\n",
    "             }},inplace = True)\n",
    "\n",
    "print(set(data.batting_team),set(data.bowling_team),sep=\"\\n\")"
   ]
  },
  {
   "cell_type": "markdown",
   "id": "17294c81",
   "metadata": {},
   "source": [
    "## Getting matches between X vs Y"
   ]
  },
  {
   "cell_type": "code",
   "execution_count": 319,
   "id": "e1e132d9",
   "metadata": {},
   "outputs": [
    {
     "data": {
      "text/plain": [
       "{'CSK vs DC', 'DC vs CSK', 'KKR vs SRH', 'MI vs RCB', 'RCB vs MI'}"
      ]
     },
     "execution_count": 319,
     "metadata": {},
     "output_type": "execute_result"
    }
   ],
   "source": [
    "data[\"teams\"] = data.batting_team + \" vs \" + data.bowling_team\n",
    "data.head(5)\n",
    "set(data.teams)"
   ]
  },
  {
   "cell_type": "markdown",
   "id": "6c934cc4",
   "metadata": {},
   "source": [
    "## Updating required index"
   ]
  },
  {
   "cell_type": "code",
   "execution_count": 321,
   "id": "126c858c",
   "metadata": {},
   "outputs": [
    {
     "name": "stdout",
     "output_type": "stream",
     "text": [
      "[0, 1, 2, 6, 7, 8, 9, 10, 11, 14, 15, 16, 17]\n",
      "['inning', 'over', 'ball', 'batsman_runs', 'extra_runs', 'total_runs', 'non_boundary', 'is_wicket', 'dismissal_kind', 'extras_type', 'batting_team', 'bowling_team', 'teams']\n"
     ]
    }
   ],
   "source": [
    "# for i in list(data.columns):\n",
    "#     print(i,\": \",set(data[i]))\n",
    "\n",
    "req_index_2 = req_index + [17]\n",
    "print(req_index_2)\n",
    "req_set_list_2 = [data.columns[i] for i in req_index_2]\n",
    "print(req_set_list_2)"
   ]
  },
  {
   "cell_type": "markdown",
   "id": "ffdb897a",
   "metadata": {},
   "source": [
    "## Function to check unique values"
   ]
  },
  {
   "cell_type": "code",
   "execution_count": 322,
   "id": "18452a73",
   "metadata": {},
   "outputs": [
    {
     "name": "stdout",
     "output_type": "stream",
     "text": [
      "inning :  {1, 2}\n",
      "over :  {0, 1, 2, 3, 4, 5, 6, 7, 8, 9, 10, 11, 12, 13, 14, 15, 16, 17, 18, 19}\n",
      "ball :  {1, 2, 3, 4, 5, 6, 7, 8}\n",
      "batsman_runs :  {0, 1, 2, 3, 4, 6, 16, 22}\n",
      "extra_runs :  {0, 1, 4, 5}\n",
      "total_runs :  {0, 1, 2, 3, 4, 100, 6, 5, 7, 67}\n",
      "non_boundary :  {0}\n",
      "is_wicket :  {0, 1, 2, 4, 5, 7, 8, 9}\n",
      "dismissal_kind :  {nan, 'caught and bowled', 'Not Applicable', 'caught', 'lbw', 'bowled', 'run out'}\n",
      "extras_type :  {nan, 'wides', 'legbyes', 'noballs'}\n",
      "batting_team :  {'DC', 'KKR', 'RCB', 'CSK', 'MI'}\n",
      "bowling_team :  {'DC', 'RCB', 'CSK', 'SRH', 'MI'}\n",
      "teams :  {'RCB vs MI', 'MI vs RCB', 'DC vs CSK', 'CSK vs DC', 'KKR vs SRH'}\n"
     ]
    }
   ],
   "source": [
    "def check(frame):\n",
    "    req_set_list_2 = [frame.columns[i] for i in req_index_2]\n",
    "    for i in req_set_list_2:\n",
    "        print(i,\": \",set(frame[i]))\n",
    "check(data)\n",
    "\n",
    "def unique(frame,a):\n",
    "    print(a,\": \",set(frame[a]))\n",
    "    return set(frame[a])"
   ]
  },
  {
   "cell_type": "markdown",
   "id": "0a0113e2",
   "metadata": {},
   "source": [
    "## Handling batsman_runs"
   ]
  },
  {
   "cell_type": "code",
   "execution_count": 323,
   "id": "adaa912b",
   "metadata": {},
   "outputs": [
    {
     "name": "stdout",
     "output_type": "stream",
     "text": [
      "batsman_runs :  {0, 1, 2, 3, 4, 6}\n"
     ]
    },
    {
     "data": {
      "text/plain": [
       "{0, 1, 2, 3, 4, 6}"
      ]
     },
     "execution_count": 323,
     "metadata": {},
     "output_type": "execute_result"
    }
   ],
   "source": [
    "data.batsman_runs.where(~(data.batsman_runs > 6),other = 0,inplace = True)\n",
    "# or (data.batsman_runs > 6) .where(condition, other values are replaced by)\n",
    "unique(data,\"batsman_runs\")"
   ]
  },
  {
   "cell_type": "markdown",
   "id": "c682b1c5",
   "metadata": {},
   "source": [
    "## Handling total_runs\n",
    "\n",
    "#### ref: https://discuss.codecademy.com/t/can-we-add-a-new-column-at-a-specific-position-in-a-pandas-dataframe/355842/2"
   ]
  },
  {
   "cell_type": "code",
   "execution_count": 324,
   "id": "b2cc50a4",
   "metadata": {},
   "outputs": [],
   "source": [
    "# total runs\n",
    "total = data.batsman_runs + data.extra_runs\n",
    "# print(total)\n",
    "# type(total)\n",
    "\n",
    "total_place = list(data.columns).index(\"total_runs\")\n",
    "data.insert(total_place, \"total\", total)\n",
    "\n",
    "# other way is to name the new series as total_runs and give argument allow_duplicates = False\n",
    "# this gets rid of next step"
   ]
  },
  {
   "cell_type": "markdown",
   "id": "3850321e",
   "metadata": {},
   "source": [
    "### Drop total_runs column"
   ]
  },
  {
   "cell_type": "code",
   "execution_count": 325,
   "id": "3faa52ab",
   "metadata": {
    "scrolled": true
   },
   "outputs": [],
   "source": [
    "''' .drop() method to remove rows and columns\n",
    "axis=0 == axis=\"rows\" & axis=1 == axis=\"columns\"\n",
    "when removing rows drop(0),axis=0\n",
    "when removing columns drop([1]),axis=1\n",
    "'''\n",
    "\n",
    "data.drop([\"total_runs\"], axis = 1, inplace = True)"
   ]
  },
  {
   "cell_type": "code",
   "execution_count": 326,
   "id": "fa776661",
   "metadata": {},
   "outputs": [
    {
     "name": "stdout",
     "output_type": "stream",
     "text": [
      "total :  {0, 1, 2, 3, 4, 5, 6, 7}\n"
     ]
    },
    {
     "data": {
      "text/plain": [
       "{0, 1, 2, 3, 4, 5, 6, 7}"
      ]
     },
     "execution_count": 326,
     "metadata": {},
     "output_type": "execute_result"
    }
   ],
   "source": [
    "unique(data,\"total\")"
   ]
  },
  {
   "cell_type": "code",
   "execution_count": 327,
   "id": "64d1b3bb",
   "metadata": {
    "scrolled": true
   },
   "outputs": [
    {
     "name": "stdout",
     "output_type": "stream",
     "text": [
      "inning :  {1, 2}\n",
      "over :  {0, 1, 2, 3, 4, 5, 6, 7, 8, 9, 10, 11, 12, 13, 14, 15, 16, 17, 18, 19}\n",
      "ball :  {1, 2, 3, 4, 5, 6, 7, 8}\n",
      "batsman_runs :  {0, 1, 2, 3, 4, 6}\n",
      "extra_runs :  {0, 1, 4, 5}\n",
      "total :  {0, 1, 2, 3, 4, 5, 6, 7}\n",
      "non_boundary :  {0}\n",
      "is_wicket :  {0, 1, 2, 4, 5, 7, 8, 9}\n",
      "dismissal_kind :  {nan, 'caught and bowled', 'Not Applicable', 'caught', 'lbw', 'bowled', 'run out'}\n",
      "extras_type :  {nan, 'wides', 'legbyes', 'noballs'}\n",
      "batting_team :  {'DC', 'KKR', 'RCB', 'CSK', 'MI'}\n",
      "bowling_team :  {'DC', 'RCB', 'CSK', 'SRH', 'MI'}\n",
      "teams :  {'RCB vs MI', 'MI vs RCB', 'DC vs CSK', 'CSK vs DC', 'KKR vs SRH'}\n"
     ]
    }
   ],
   "source": [
    "check(data)"
   ]
  },
  {
   "cell_type": "markdown",
   "id": "75812b9f",
   "metadata": {},
   "source": [
    "## Handling non_boundary\n",
    "\n",
    "### Drop non-boundary"
   ]
  },
  {
   "cell_type": "code",
   "execution_count": 328,
   "id": "af0cd572",
   "metadata": {},
   "outputs": [],
   "source": [
    "data.drop([\"non_boundary\"], axis = 1, inplace = True)"
   ]
  },
  {
   "cell_type": "markdown",
   "id": "ee426c67",
   "metadata": {},
   "source": [
    "### Update the required index 2"
   ]
  },
  {
   "cell_type": "code",
   "execution_count": 329,
   "id": "43852386",
   "metadata": {},
   "outputs": [],
   "source": [
    "req_index_2 = [0,1,2,6,7,8,9,10,13,14,15,16]"
   ]
  },
  {
   "cell_type": "code",
   "execution_count": 330,
   "id": "d5f85daa",
   "metadata": {},
   "outputs": [
    {
     "name": "stdout",
     "output_type": "stream",
     "text": [
      "inning :  {1, 2}\n",
      "over :  {0, 1, 2, 3, 4, 5, 6, 7, 8, 9, 10, 11, 12, 13, 14, 15, 16, 17, 18, 19}\n",
      "ball :  {1, 2, 3, 4, 5, 6, 7, 8}\n",
      "batsman_runs :  {0, 1, 2, 3, 4, 6}\n",
      "extra_runs :  {0, 1, 4, 5}\n",
      "total :  {0, 1, 2, 3, 4, 5, 6, 7}\n",
      "is_wicket :  {0, 1, 2, 4, 5, 7, 8, 9}\n",
      "dismissal_kind :  {nan, 'caught and bowled', 'Not Applicable', 'caught', 'lbw', 'bowled', 'run out'}\n",
      "extras_type :  {nan, 'wides', 'legbyes', 'noballs'}\n",
      "batting_team :  {'DC', 'KKR', 'RCB', 'CSK', 'MI'}\n",
      "bowling_team :  {'DC', 'RCB', 'CSK', 'SRH', 'MI'}\n",
      "teams :  {'RCB vs MI', 'MI vs RCB', 'DC vs CSK', 'CSK vs DC', 'KKR vs SRH'}\n"
     ]
    }
   ],
   "source": [
    "check(data)"
   ]
  },
  {
   "cell_type": "markdown",
   "id": "de9cbeeb",
   "metadata": {},
   "source": [
    "## Handling empty values"
   ]
  },
  {
   "cell_type": "markdown",
   "id": "40c52a7b",
   "metadata": {},
   "source": [
    "### Function to print number of missing values in each column\n",
    "\n",
    "#### ref: https://www.geeksforgeeks.org/count-nan-or-missing-values-in-pandas-dataframe/"
   ]
  },
  {
   "cell_type": "code",
   "execution_count": 331,
   "id": "2745c767",
   "metadata": {},
   "outputs": [
    {
     "name": "stdout",
     "output_type": "stream",
     "text": [
      "inning :  0\n",
      "over :  0\n",
      "ball :  0\n",
      "batsman :  0\n",
      "non_striker :  0\n",
      "bowler :  0\n",
      "batsman_runs :  0\n",
      "extra_runs :  0\n",
      "total :  0\n",
      "is_wicket :  0\n",
      "dismissal_kind :  464\n",
      "player_dismissed :  455\n",
      "fielder :  483\n",
      "extras_type :  476\n",
      "batting_team :  0\n",
      "bowling_team :  0\n",
      "teams :  0\n"
     ]
    }
   ],
   "source": [
    "def countNull(column):\n",
    "    return data[column].isnull().sum()\n",
    "\n",
    "# print nulls present in each column\n",
    "    \n",
    "def checkNull():\n",
    "    for i in list(data.columns):\n",
    "        print(i,\": \",countNull(i))\n",
    "checkNull()"
   ]
  },
  {
   "cell_type": "code",
   "execution_count": 332,
   "id": "ee7c5234",
   "metadata": {},
   "outputs": [
    {
     "name": "stdout",
     "output_type": "stream",
     "text": [
      "inning :  {1, 2}\n",
      "over :  {0, 1, 2, 3, 4, 5, 6, 7, 8, 9, 10, 11, 12, 13, 14, 15, 16, 17, 18, 19}\n",
      "ball :  {1, 2, 3, 4, 5, 6, 7, 8}\n",
      "batsman_runs :  {0, 1, 2, 3, 4, 6}\n",
      "extra_runs :  {0, 1, 4, 5}\n",
      "total :  {0, 1, 2, 3, 4, 5, 6, 7}\n",
      "is_wicket :  {0, 1, 2, 4, 5, 7, 8, 9}\n",
      "dismissal_kind :  {nan, 'caught and bowled', 'Not Applicable', 'caught', 'lbw', 'bowled', 'run out'}\n",
      "extras_type :  {nan, 'wides', 'legbyes', 'noballs'}\n",
      "batting_team :  {'DC', 'KKR', 'RCB', 'CSK', 'MI'}\n",
      "bowling_team :  {'DC', 'RCB', 'CSK', 'SRH', 'MI'}\n",
      "teams :  {'RCB vs MI', 'MI vs RCB', 'DC vs CSK', 'CSK vs DC', 'KKR vs SRH'}\n"
     ]
    }
   ],
   "source": [
    "check(data)"
   ]
  },
  {
   "cell_type": "markdown",
   "id": "e0df7632",
   "metadata": {},
   "source": [
    "## Replace empty values\n",
    "\n",
    "#### https://www.geeksforgeeks.org/replace-nan-values-with-zeros-in-pandas-dataframe/\n",
    "#### https://pandas.pydata.org/docs/reference/api/pandas.DataFrame.fillna.html"
   ]
  },
  {
   "cell_type": "code",
   "execution_count": 333,
   "id": "d1430d45",
   "metadata": {},
   "outputs": [],
   "source": [
    "na_index = [\"dismissal_kind\",\"player_dismissed\",\"fielder\",\"extras_type\"]\n",
    "\n",
    "for i in na_index:\n",
    "    data[i].fillna(\"none\", inplace = True) # or .replace(np.na, value)"
   ]
  },
  {
   "cell_type": "code",
   "execution_count": 335,
   "id": "85b95d18",
   "metadata": {},
   "outputs": [
    {
     "name": "stdout",
     "output_type": "stream",
     "text": [
      "inning :  {1, 2}\n",
      "over :  {0, 1, 2, 3, 4, 5, 6, 7, 8, 9, 10, 11, 12, 13, 14, 15, 16, 17, 18, 19}\n",
      "ball :  {1, 2, 3, 4, 5, 6, 7, 8}\n",
      "batsman_runs :  {0, 1, 2, 3, 4, 6}\n",
      "extra_runs :  {0, 1, 4, 5}\n",
      "total :  {0, 1, 2, 3, 4, 5, 6, 7}\n",
      "is_wicket :  {0, 1, 2, 4, 5, 7, 8, 9}\n",
      "dismissal_kind :  {'caught and bowled', 'Not Applicable', 'none', 'caught', 'lbw', 'bowled', 'run out'}\n",
      "extras_type :  {'wides', 'none', 'legbyes', 'noballs'}\n",
      "batting_team :  {'DC', 'KKR', 'RCB', 'CSK', 'MI'}\n",
      "bowling_team :  {'DC', 'RCB', 'CSK', 'SRH', 'MI'}\n",
      "teams :  {'RCB vs MI', 'MI vs RCB', 'DC vs CSK', 'CSK vs DC', 'KKR vs SRH'}\n"
     ]
    }
   ],
   "source": [
    "check(data)\n",
    "# unique(data,na_index[1])\n",
    "# unique(data,na_index[2])"
   ]
  },
  {
   "cell_type": "markdown",
   "id": "ba56f5b8",
   "metadata": {},
   "source": [
    "## Replace 'Not Applicable' with none"
   ]
  },
  {
   "cell_type": "code",
   "execution_count": 336,
   "id": "d54d6835",
   "metadata": {},
   "outputs": [],
   "source": [
    "data.replace('Not Applicable', 'none', inplace = True)"
   ]
  },
  {
   "cell_type": "markdown",
   "id": "21d12f5e",
   "metadata": {},
   "source": [
    "## Segmenting the matches data\n",
    "\n",
    "### RCB vs MI"
   ]
  },
  {
   "cell_type": "code",
   "execution_count": 337,
   "id": "74d1bcf1",
   "metadata": {},
   "outputs": [
    {
     "name": "stdout",
     "output_type": "stream",
     "text": [
      "teams :  {'RCB vs MI', 'MI vs RCB', 'DC vs CSK', 'CSK vs DC', 'KKR vs SRH'}\n"
     ]
    },
    {
     "data": {
      "text/html": [
       "<div>\n",
       "<style scoped>\n",
       "    .dataframe tbody tr th:only-of-type {\n",
       "        vertical-align: middle;\n",
       "    }\n",
       "\n",
       "    .dataframe tbody tr th {\n",
       "        vertical-align: top;\n",
       "    }\n",
       "\n",
       "    .dataframe thead th {\n",
       "        text-align: right;\n",
       "    }\n",
       "</style>\n",
       "<table border=\"1\" class=\"dataframe\">\n",
       "  <thead>\n",
       "    <tr style=\"text-align: right;\">\n",
       "      <th></th>\n",
       "      <th>inning</th>\n",
       "      <th>over</th>\n",
       "      <th>ball</th>\n",
       "      <th>batsman</th>\n",
       "      <th>non_striker</th>\n",
       "      <th>bowler</th>\n",
       "      <th>batsman_runs</th>\n",
       "      <th>extra_runs</th>\n",
       "      <th>total</th>\n",
       "      <th>is_wicket</th>\n",
       "      <th>dismissal_kind</th>\n",
       "      <th>player_dismissed</th>\n",
       "      <th>fielder</th>\n",
       "      <th>extras_type</th>\n",
       "      <th>batting_team</th>\n",
       "      <th>bowling_team</th>\n",
       "      <th>teams</th>\n",
       "    </tr>\n",
       "  </thead>\n",
       "  <tbody>\n",
       "    <tr>\n",
       "      <th>0</th>\n",
       "      <td>1</td>\n",
       "      <td>0</td>\n",
       "      <td>1</td>\n",
       "      <td>RG Sharma</td>\n",
       "      <td>CA Lynn</td>\n",
       "      <td>Mohammed Siraj</td>\n",
       "      <td>2</td>\n",
       "      <td>0</td>\n",
       "      <td>2</td>\n",
       "      <td>0</td>\n",
       "      <td>none</td>\n",
       "      <td>none</td>\n",
       "      <td>none</td>\n",
       "      <td>none</td>\n",
       "      <td>MI</td>\n",
       "      <td>RCB</td>\n",
       "      <td>MI vs RCB</td>\n",
       "    </tr>\n",
       "    <tr>\n",
       "      <th>1</th>\n",
       "      <td>1</td>\n",
       "      <td>0</td>\n",
       "      <td>2</td>\n",
       "      <td>RG Sharma</td>\n",
       "      <td>CA Lynn</td>\n",
       "      <td>Mohammed Siraj</td>\n",
       "      <td>0</td>\n",
       "      <td>0</td>\n",
       "      <td>0</td>\n",
       "      <td>0</td>\n",
       "      <td>none</td>\n",
       "      <td>none</td>\n",
       "      <td>none</td>\n",
       "      <td>none</td>\n",
       "      <td>MI</td>\n",
       "      <td>RCB</td>\n",
       "      <td>MI vs RCB</td>\n",
       "    </tr>\n",
       "    <tr>\n",
       "      <th>2</th>\n",
       "      <td>1</td>\n",
       "      <td>0</td>\n",
       "      <td>3</td>\n",
       "      <td>RG Sharma</td>\n",
       "      <td>CA Lynn</td>\n",
       "      <td>Mohammed Siraj</td>\n",
       "      <td>0</td>\n",
       "      <td>0</td>\n",
       "      <td>0</td>\n",
       "      <td>0</td>\n",
       "      <td>none</td>\n",
       "      <td>none</td>\n",
       "      <td>none</td>\n",
       "      <td>none</td>\n",
       "      <td>MI</td>\n",
       "      <td>RCB</td>\n",
       "      <td>MI vs RCB</td>\n",
       "    </tr>\n",
       "    <tr>\n",
       "      <th>3</th>\n",
       "      <td>1</td>\n",
       "      <td>0</td>\n",
       "      <td>4</td>\n",
       "      <td>RG Sharma</td>\n",
       "      <td>CA Lynn</td>\n",
       "      <td>Mohammed Siraj</td>\n",
       "      <td>2</td>\n",
       "      <td>0</td>\n",
       "      <td>2</td>\n",
       "      <td>0</td>\n",
       "      <td>none</td>\n",
       "      <td>none</td>\n",
       "      <td>none</td>\n",
       "      <td>none</td>\n",
       "      <td>MI</td>\n",
       "      <td>RCB</td>\n",
       "      <td>MI vs RCB</td>\n",
       "    </tr>\n",
       "    <tr>\n",
       "      <th>4</th>\n",
       "      <td>1</td>\n",
       "      <td>0</td>\n",
       "      <td>5</td>\n",
       "      <td>RG Sharma</td>\n",
       "      <td>CA Lynn</td>\n",
       "      <td>Mohammed Siraj</td>\n",
       "      <td>0</td>\n",
       "      <td>0</td>\n",
       "      <td>0</td>\n",
       "      <td>0</td>\n",
       "      <td>none</td>\n",
       "      <td>none</td>\n",
       "      <td>none</td>\n",
       "      <td>none</td>\n",
       "      <td>MI</td>\n",
       "      <td>RCB</td>\n",
       "      <td>MI vs RCB</td>\n",
       "    </tr>\n",
       "  </tbody>\n",
       "</table>\n",
       "</div>"
      ],
      "text/plain": [
       "   inning  over  ball    batsman non_striker          bowler  batsman_runs  \\\n",
       "0       1     0     1  RG Sharma     CA Lynn  Mohammed Siraj             2   \n",
       "1       1     0     2  RG Sharma     CA Lynn  Mohammed Siraj             0   \n",
       "2       1     0     3  RG Sharma     CA Lynn  Mohammed Siraj             0   \n",
       "3       1     0     4  RG Sharma     CA Lynn  Mohammed Siraj             2   \n",
       "4       1     0     5  RG Sharma     CA Lynn  Mohammed Siraj             0   \n",
       "\n",
       "   extra_runs  total  is_wicket dismissal_kind player_dismissed fielder  \\\n",
       "0           0      2          0           none             none    none   \n",
       "1           0      0          0           none             none    none   \n",
       "2           0      0          0           none             none    none   \n",
       "3           0      2          0           none             none    none   \n",
       "4           0      0          0           none             none    none   \n",
       "\n",
       "  extras_type batting_team bowling_team      teams  \n",
       "0        none           MI          RCB  MI vs RCB  \n",
       "1        none           MI          RCB  MI vs RCB  \n",
       "2        none           MI          RCB  MI vs RCB  \n",
       "3        none           MI          RCB  MI vs RCB  \n",
       "4        none           MI          RCB  MI vs RCB  "
      ]
     },
     "execution_count": 337,
     "metadata": {},
     "output_type": "execute_result"
    }
   ],
   "source": [
    "unique(data,\"teams\")\n",
    "\n",
    "rcb_vs_mi = data[((data.teams == 'RCB vs MI') | (data.teams == 'MI vs RCB'))] # donot use or operator, pandas considers it ambigous\n",
    "rcb_vs_mi.head(5)"
   ]
  },
  {
   "cell_type": "code",
   "execution_count": 338,
   "id": "f8f64734",
   "metadata": {
    "scrolled": true
   },
   "outputs": [
    {
     "name": "stdout",
     "output_type": "stream",
     "text": [
      "inning :  {1, 2}\n",
      "over :  {0, 1, 2, 3, 4, 5, 6, 7, 8, 9, 10, 11, 12, 13, 14, 15, 16, 17, 18, 19}\n",
      "ball :  {1, 2, 3, 4, 5, 6, 7, 8}\n",
      "batsman_runs :  {0, 1, 2, 3, 4, 6}\n",
      "extra_runs :  {0, 1, 5}\n",
      "total :  {0, 1, 2, 3, 4, 5, 6}\n",
      "is_wicket :  {0, 1, 2, 4, 7, 8}\n",
      "dismissal_kind :  {'caught and bowled', 'none', 'caught', 'lbw', 'bowled', 'run out'}\n",
      "extras_type :  {'wides', 'none', 'legbyes', 'noballs'}\n",
      "batting_team :  {'MI', 'RCB'}\n",
      "bowling_team :  {'MI', 'RCB'}\n",
      "teams :  {'RCB vs MI', 'MI vs RCB'}\n"
     ]
    }
   ],
   "source": [
    "check(rcb_vs_mi)"
   ]
  },
  {
   "cell_type": "markdown",
   "id": "ab60e027",
   "metadata": {},
   "source": [
    "#### Segmenting innings"
   ]
  },
  {
   "cell_type": "code",
   "execution_count": 339,
   "id": "23b3208b",
   "metadata": {},
   "outputs": [],
   "source": [
    "rcb_vs_mi_1 = rcb_vs_mi[rcb_vs_mi.inning == 1]\n",
    "rcb_vs_mi_2 = rcb_vs_mi[rcb_vs_mi.inning == 2]"
   ]
  },
  {
   "cell_type": "markdown",
   "id": "4b45ea14",
   "metadata": {},
   "source": [
    "#### Overview of data"
   ]
  },
  {
   "cell_type": "code",
   "execution_count": 340,
   "id": "e0d55f6a",
   "metadata": {},
   "outputs": [
    {
     "name": "stdout",
     "output_type": "stream",
     "text": [
      "319\n",
      "159\n",
      "160\n"
     ]
    }
   ],
   "source": [
    "# rcb_vs_mi.size\n",
    "# rcb_vs_mi.shape\n",
    "# rcb_vs_mi.describe()\n",
    "# rcb_vs_mi.count() #excludes Nan\n",
    "# rcb_vs_mi[\"total\"].describe()\n",
    "print(rcb_vs_mi[\"total\"].sum())\n",
    "# rcb_vs_mi.corr()\n",
    "\n",
    "# rcb_vs_mi_1.size\n",
    "# rcb_vs_mi_1.shape\n",
    "# rcb_vs_mi_1.describe()\n",
    "# rcb_vs_mi_1.count() #excludes Nan\n",
    "# rcb_vs_mi_1[\"total\"].describe()\n",
    "print(rcb_vs_mi_1[\"total\"].sum())\n",
    "# rcb_vs_mi_1.corr()\n",
    "\n",
    "# rcb_vs_mi_2.size\n",
    "# rcb_vs_mi_2.shape\n",
    "# rcb_vs_mi_2.describe()\n",
    "# rcb_vs_mi_2.count() #excludes Nan\n",
    "# rcb_vs_mi_2[\"total\"].describe()\n",
    "print(rcb_vs_mi_2[\"total\"].sum())\n",
    "# rcb_vs_mi_2.corr()"
   ]
  },
  {
   "cell_type": "markdown",
   "id": "761777ae",
   "metadata": {},
   "source": [
    "## Method pd.pivot_table()\n",
    "\n",
    "### Per over runs\n",
    "\n",
    "#### ref: https://pandas.pydata.org/docs/reference/api/pandas.DataFrame.pivot_table.html"
   ]
  },
  {
   "cell_type": "code",
   "execution_count": 341,
   "id": "b5e7266d",
   "metadata": {
    "scrolled": true
   },
   "outputs": [
    {
     "name": "stdout",
     "output_type": "stream",
     "text": [
      "                            batsman_runs  total\n",
      "inning over batsman                            \n",
      "1      0    RG Sharma                  5      5\n",
      "       1    CA Lynn                    0      0\n",
      "            RG Sharma                  1      1\n",
      "       2    RG Sharma                  6      6\n",
      "       3    CA Lynn                    5      5\n",
      "...                                  ...    ...\n",
      "2      18   AB de Villiers            12     12\n",
      "            KA Jamieson                0      0\n",
      "       19   AB de Villiers             2      2\n",
      "            HV Patel                   4      4\n",
      "            Mohammed Siraj             0      1\n",
      "\n",
      "[86 rows x 2 columns]\n"
     ]
    }
   ],
   "source": [
    "rcb_mi_per_over = pd.pivot_table(rcb_vs_mi, values=['total',\"batsman_runs\"], index=['inning','over',\"batsman\"], aggfunc=np.sum)\n",
    "print(rcb_mi_per_over)"
   ]
  },
  {
   "cell_type": "markdown",
   "id": "e5dd6c2a",
   "metadata": {},
   "source": [
    "### CSK vs DC"
   ]
  },
  {
   "cell_type": "code",
   "execution_count": 342,
   "id": "5fc6da47",
   "metadata": {
    "scrolled": false
   },
   "outputs": [
    {
     "name": "stdout",
     "output_type": "stream",
     "text": [
      "374\n",
      "                          batsman_runs  extra_runs  total\n",
      "inning over batsman                                      \n",
      "1      0    F du Plessis             0           0      0\n",
      "            RD Gaikwad               4           1      5\n",
      "       1    F du Plessis             0           0      0\n",
      "            MM Ali                   0           0      0\n",
      "            RD Gaikwad               1           1      2\n",
      "...                                ...         ...    ...\n",
      "2      16   S Dhawan                 8           1      9\n",
      "       17   MP Stoinis               6           0      6\n",
      "            RR Pant                  4           0      4\n",
      "       18   MP Stoinis               4           0      4\n",
      "            RR Pant                  4           0      4\n",
      "\n",
      "[80 rows x 3 columns]\n"
     ]
    }
   ],
   "source": [
    "csk_vs_dc = data[(data.teams == ('CSK vs DC')) | (data.teams == 'DC vs CSK')]\n",
    "\n",
    "csk_vs_dc_1 = csk_vs_dc[csk_vs_dc.inning == 1]\n",
    "csk_vs_dc_2 = csk_vs_dc[csk_vs_dc.inning == 2]\n",
    "\n",
    "# csk_vs_dc.size\n",
    "# csk_vs_dc.shape\n",
    "# csk_vs_dc.describe()\n",
    "# csk_vs_dc.count() #excludes Nan\n",
    "# csk_vs_dc[\"total\"].describe()\n",
    "print(csk_vs_dc[\"total\"].sum())\n",
    "# rcb_vs_mi.corr()\n",
    "\n",
    "csk_dc_per_over = pd.pivot_table(\n",
    "    csk_vs_dc, \n",
    "    values=['total',\"batsman_runs\",'extra_runs'], \n",
    "    index=['inning','over',\"batsman\"], \n",
    "    aggfunc=np.sum)\n",
    "print(csk_dc_per_over)"
   ]
  },
  {
   "cell_type": "markdown",
   "id": "a59a954c",
   "metadata": {},
   "source": [
    "### KKR vs SRH"
   ]
  },
  {
   "cell_type": "code",
   "execution_count": 343,
   "id": "0580c9bf",
   "metadata": {
    "scrolled": false
   },
   "outputs": [
    {
     "name": "stdout",
     "output_type": "stream",
     "text": [
      "9\n",
      "             total\n",
      "inning over       \n",
      "1      0         4\n",
      "       1         5\n"
     ]
    }
   ],
   "source": [
    "kkr_vs_srh = data[data.teams == ('KKR vs SRH')]\n",
    "\n",
    "# kkr_vs_srh.size\n",
    "# kkr_vs_srh.shape\n",
    "# kkr_vs_srh.describe()\n",
    "# kkr_vs_srh.count() #excludes Nan\n",
    "# kkr_vs_srh[\"total\"].describe()\n",
    "print(kkr_vs_srh[\"total\"].sum())\n",
    "# kkr_vs_srh.corr()\n",
    "\n",
    "kkr_srh_per_over = pd.pivot_table(kkr_vs_srh, values='total', index=['inning','over'], aggfunc=np.sum)\n",
    "print(kkr_srh_per_over)"
   ]
  },
  {
   "cell_type": "code",
   "execution_count": 344,
   "id": "738379ef",
   "metadata": {},
   "outputs": [
    {
     "data": {
      "text/plain": [
       "499"
      ]
     },
     "execution_count": 344,
     "metadata": {},
     "output_type": "execute_result"
    }
   ],
   "source": [
    "len(rcb_vs_mi)+len(csk_vs_dc)+len(kkr_vs_srh)"
   ]
  },
  {
   "cell_type": "markdown",
   "id": "d25681fc",
   "metadata": {},
   "source": [
    "# END"
   ]
  },
  {
   "cell_type": "markdown",
   "id": "892c7b04",
   "metadata": {},
   "source": [
    "### --------------------------------------------------------------------------------------------------------------------------"
   ]
  },
  {
   "cell_type": "markdown",
   "id": "558d008b",
   "metadata": {},
   "source": [
    "# Visualization"
   ]
  },
  {
   "cell_type": "code",
   "execution_count": 345,
   "id": "134e42c9",
   "metadata": {},
   "outputs": [
    {
     "name": "stdout",
     "output_type": "stream",
     "text": [
      "over :  {0, 1, 2, 3, 4, 5, 6, 7, 8, 9, 10, 11, 12, 13, 14, 15, 16, 17, 18, 19}\n"
     ]
    }
   ],
   "source": [
    "from matplotlib import pyplot as plt\n",
    "\n",
    "x = list(unique(rcb_vs_mi_1,'over'))"
   ]
  },
  {
   "cell_type": "markdown",
   "id": "67de10c7",
   "metadata": {},
   "source": [
    "## Grouping data\n",
    "\n",
    "#### ref: https://towardsdatascience.com/all-pandas-groupby-you-should-know-for-grouping-data-and-performing-operations-2a8ec1327b5"
   ]
  },
  {
   "cell_type": "code",
   "execution_count": 346,
   "id": "79f6c4c2",
   "metadata": {},
   "outputs": [],
   "source": [
    "over_group_1 = rcb_vs_mi_1.groupby('over')\n",
    "over_group_2 = rcb_vs_mi_2.groupby('over')"
   ]
  },
  {
   "cell_type": "code",
   "execution_count": 347,
   "id": "696daf33",
   "metadata": {},
   "outputs": [],
   "source": [
    "y = list(over_group_1.total.sum())\n",
    "z = list(over_group_2.total.sum())"
   ]
  },
  {
   "cell_type": "markdown",
   "id": "36505164",
   "metadata": {},
   "source": [
    "## Bar plot\n",
    "\n",
    "#### ref: https://matplotlib.org/stable/api/_as_gen/matplotlib.pyplot.bar.html"
   ]
  },
  {
   "cell_type": "code",
   "execution_count": 348,
   "id": "43dfef58",
   "metadata": {
    "scrolled": false
   },
   "outputs": [
    {
     "data": {
      "image/png": "[encoded data removed]",
      "text/plain": [
       "<Figure size 432x288 with 1 Axes>"
      ]
     },
     "metadata": {
      "needs_background": "light"
     },
     "output_type": "display_data"
    }
   ],
   "source": [
    "plt.bar(x,y)\n",
    "plt.show()"
   ]
  },
  {
   "cell_type": "markdown",
   "id": "eaed62af",
   "metadata": {},
   "source": [
    "## Line plot\n",
    "\n",
    "#### ref: https://matplotlib.org/stable/api/_as_gen/matplotlib.pyplot.plot.html"
   ]
  },
  {
   "cell_type": "code",
   "execution_count": 349,
   "id": "07ddd2ee",
   "metadata": {},
   "outputs": [
    {
     "name": "stdout",
     "output_type": "stream",
     "text": [
      "[5, 6, 12, 24, 30, 41, 55, 70, 83, 86, 94, 98, 105, 120, 128, 135, 142, 146, 158, 159]\n"
     ]
    }
   ],
   "source": [
    "l = list(over_group_1.total.sum().cumsum())\n",
    "print(l)\n",
    "m = list(over_group_2.total.sum().cumsum())"
   ]
  },
  {
   "cell_type": "code",
   "execution_count": 350,
   "id": "a31297d0",
   "metadata": {},
   "outputs": [
    {
     "data": {
      "text/plain": [
       "Text(0.5, 1.0, 'Performance Comparision')"
      ]
     },
     "execution_count": 350,
     "metadata": {},
     "output_type": "execute_result"
    },
    {
     "data": {
      "image/png": "[encoded data removed]",
      "text/plain": [
       "<Figure size 432x288 with 1 Axes>"
      ]
     },
     "metadata": {
      "needs_background": "light"
     },
     "output_type": "display_data"
    }
   ],
   "source": [
    "plt.plot(x,l)\n",
    "plt.plot(x,m)\n",
    "plt.legend(['first innings','second innings'])\n",
    "plt.xlabel('over')\n",
    "plt.ylabel('runs made')\n",
    "plt.title('Performance Comparision')"
   ]
  }
 ],
 "metadata": {
  "kernelspec": {
   "display_name": "Python 3",
   "language": "python",
   "name": "python3"
  },
  "language_info": {
   "codemirror_mode": {
    "name": "ipython",
    "version": 3
   },
   "file_extension": ".py",
   "mimetype": "text/x-python",
   "name": "python",
   "nbconvert_exporter": "python",
   "pygments_lexer": "ipython3",
   "version": "3.8.8"
  }
 },
 "nbformat": 4,
 "nbformat_minor": 5
}
